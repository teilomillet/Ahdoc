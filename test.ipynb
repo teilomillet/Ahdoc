{
 "cells": [
  {
   "cell_type": "code",
   "execution_count": 26,
   "metadata": {},
   "outputs": [
    {
     "name": "stdout",
     "output_type": "stream",
     "text": [
      "{'filename': '2109.071271.pdf'}\n"
     ]
    }
   ],
   "source": [
    "import requests\n",
    "\n",
    "# URL of the FastAPI server\n",
    "url = \"http://localhost:8000/upload\"\n",
    "\n",
    "# Open the PDF file in binary mode\n",
    "with open('/Users/teilomillet/Desktop/2109.071271.pdf', 'rb') as file:\n",
    "    # Send a POST request to the API with the PDF file as data\n",
    "    response = requests.post(url, files={'file': file})\n",
    "\n",
    "# Print the response from the API\n",
    "print(response.json())"
   ]
  },
  {
   "cell_type": "code",
   "execution_count": 28,
   "metadata": {},
   "outputs": [
    {
     "name": "stdout",
     "output_type": "stream",
     "text": [
      "{'answer': ' CPClean is the best performing data cleaning strategy, as it closes a 100% gap on average by cleaning up to 36% of dirty data. It is most effective on data sets with systematic missingness, closing 100% in all cases.'}\n"
     ]
    }
   ],
   "source": [
    "import requests\n",
    "import urllib.parse\n",
    "\n",
    "# URL of the FastAPI server\n",
    "url = \"http://0.0.0.0:8000/question\"\n",
    "\n",
    "# Query to send to the API\n",
    "query = \"What are the best performing data cleaning strategy?\"\n",
    "query = urllib.parse.quote(query)\n",
    "\n",
    "# Send a GET request to the API with the query as a parameter\n",
    "response = requests.post(f\"{url}?question={query}\")\n",
    "\n",
    "# Print the response from the API\n",
    "print(response.json())\n"
   ]
  },
  {
   "cell_type": "code",
   "execution_count": null,
   "metadata": {},
   "outputs": [],
   "source": []
  }
 ],
 "metadata": {
  "kernelspec": {
   "display_name": "ahdoc",
   "language": "python",
   "name": "python3"
  },
  "language_info": {
   "codemirror_mode": {
    "name": "ipython",
    "version": 3
   },
   "file_extension": ".py",
   "mimetype": "text/x-python",
   "name": "python",
   "nbconvert_exporter": "python",
   "pygments_lexer": "ipython3",
   "version": "3.11.3"
  },
  "orig_nbformat": 4
 },
 "nbformat": 4,
 "nbformat_minor": 2
}
